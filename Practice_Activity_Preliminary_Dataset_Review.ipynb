{
  "nbformat": 4,
  "nbformat_minor": 0,
  "metadata": {
    "colab": {
      "provenance": [],
      "mount_file_id": "1442EW52EFZhzfaeJtoNnmjA4rWiFaGBD",
      "authorship_tag": "ABX9TyOtMaOCqs+RkyOYJHe51qGc"
    },
    "kernelspec": {
      "name": "python3",
      "display_name": "Python 3"
    },
    "language_info": {
      "name": "python"
    }
  },
  "cells": [
    {
      "cell_type": "markdown",
      "source": [
        "Data mining in health and wellness offers numerous impactful applications. It transforms raw nutrition and food tracking data into actionable insights, helping users make informed decisions that support their overall health and wellness goals.\n",
        "\n",
        "In this practice activity, you will be working with a preliminary review of a nutrition and food tracking dataset. The main objective of this exercise is for you to understand the dataset structure and get familiar with the meaning of each feature of the nutritional data."
      ],
      "metadata": {
        "id": "WRGVTDzVdCbj"
      }
    },
    {
      "cell_type": "markdown",
      "source": [
        "**Instructions:**\n",
        "\n",
        "1. Download the nutrition dataset  and load it to .\n",
        "    \n",
        "    [here](https://drive.google.com/file/d/1sLoEkd84nwHpJK0yOhBhcsNzQyV_fd_X/view?usp=drive_link)\n",
        "    \n",
        "    [Jupyter Notebooks](https://jupyter.org/)\n",
        "    \n",
        "2. Inspect the first few rows and columns using head() to get a sense of the data.\n",
        "3. Review the dataset’s features and identify potential target variables.\n",
        "4. Based on the initial findings, answer the following questions:\n",
        "    1. How many entries does the dataset have?\n",
        "    2. What are the column names, and what kind of data do they contain?\n",
        "    3. Do you notice any missing or unusual values?\n",
        "5. Create a table that lists each feature, describes its meaning, and identifies its type (e.g., numerical, categorical).\n",
        "6. Based on the results, answer the following questions:\n",
        "    1. Which columns are numerical, and which are categorical?\n",
        "    2. Are there any features that look redundant or unnecessary for analysis?"
      ],
      "metadata": {
        "id": "ARjBpRMhjiA5"
      }
    },
    {
      "cell_type": "code",
      "source": [
        "# 1. Import Libraries\n",
        "import pandas as pd\n",
        "import os\n",
        "from google.colab import drive\n",
        "from sklearn.preprocessing import LabelEncoder\n",
        "drive.mount('/content/drive')\n",
        "\n",
        "\n",
        "# 2. Load the Dataset\n",
        "# Get the current working directory\n",
        "current_directory = os.getcwd()\n",
        "\n",
        "# 3. Construct the file path relative to the current directory\n",
        "file_path = \"/content/drive/MyDrive/Colab Notebooks/nutrition_data.csv\"\n",
        "\n",
        "# 4. Load the dataset using the relative path\n",
        "df = pd.read_csv(r\"/content/drive/MyDrive/Colab Notebooks/nutrition_data.csv\")\n",
        "print(os.path.exists(file_path))  # Check if file exists\n",
        "\n",
        "# 5. Verify the dataset load\n",
        "!cp \"/content/drive/MyDrive/Colab Notebooks/nutrition_data.csv\" \"/content/\"\n",
        "print(df.head())"
      ],
      "metadata": {
        "colab": {
          "base_uri": "https://localhost:8080/"
        },
        "id": "k8vpBlpJSGX8",
        "outputId": "4df5d8c9-b3e7-4fa3-a765-54c67aa02b9a"
      },
      "execution_count": 16,
      "outputs": [
        {
          "output_type": "stream",
          "name": "stdout",
          "text": [
            "Drive already mounted at /content/drive; to attempt to forcibly remount, call drive.mount(\"/content/drive\", force_remount=True).\n",
            "True\n",
            "        food_item  calories  protein  carbs  fats  meal_time\n",
            "0           Apple      95.0      0.5   25.0   0.3  Breakfast\n",
            "1          Banana     105.0      1.3   27.0   0.4      Snack\n",
            "2  Chicken Breast     165.0     31.0    0.0   3.6      Lunch\n",
            "3           Steak     679.0     62.0    0.0  48.0     Dinner\n",
            "4           Salad     150.0      2.0   15.0   7.0      Lunch\n"
          ]
        }
      ]
    },
    {
      "cell_type": "markdown",
      "source": [
        "Reviewing the dataset's feature.\n"
      ],
      "metadata": {
        "id": "I4rNQHsbkn26"
      }
    },
    {
      "cell_type": "code",
      "source": [
        "# 6. Dataset Structure\n",
        "num_rows = df.shape[0]\n",
        "num_cols = df.shape[1]\n",
        "\n",
        "print(f\"The dataset has {num_rows} rows and {num_cols} columns.\")\n",
        "\n",
        "print(\"\\nDataset Info:\")\n",
        "df.info()"
      ],
      "metadata": {
        "colab": {
          "base_uri": "https://localhost:8080/"
        },
        "id": "Co4ZLNrVkyvd",
        "outputId": "eb589776-e7a4-427f-b8b4-cf68f2af2fe8"
      },
      "execution_count": null,
      "outputs": [
        {
          "output_type": "stream",
          "name": "stdout",
          "text": [
            "The dataset has 101 rows and 6 columns.\n",
            "\n",
            "Dataset Info:\n",
            "<class 'pandas.core.frame.DataFrame'>\n",
            "Index: 101 entries, 0 to 104\n",
            "Data columns (total 6 columns):\n",
            " #   Column     Non-Null Count  Dtype  \n",
            "---  ------     --------------  -----  \n",
            " 0   food_item  101 non-null    object \n",
            " 1   calories   101 non-null    float64\n",
            " 2   protein    101 non-null    float64\n",
            " 3   carbs      101 non-null    float64\n",
            " 4   fats       101 non-null    float64\n",
            " 5   meal_time  101 non-null    object \n",
            "dtypes: float64(4), object(2)\n",
            "memory usage: 5.5+ KB\n"
          ]
        }
      ]
    },
    {
      "cell_type": "markdown",
      "source": [
        "The given dataset has 105 rows and 6 columns namely 'food_item', 'calories', 'protein', 'carbs', 'fats', and 'meal_time'"
      ],
      "metadata": {
        "id": "YKqjOpNWm6fM"
      }
    },
    {
      "cell_type": "markdown",
      "source": [
        "Checking any missing and unusual values in the given dataset."
      ],
      "metadata": {
        "id": "D6p9Fuw3qHT2"
      }
    },
    {
      "cell_type": "code",
      "source": [
        "# 7. Missing Values\n",
        "missing_values = df.isnull().sum()\n",
        "print(\"\\nMissing Values in the Dataset:\")\n",
        "print(missing_values)"
      ],
      "metadata": {
        "colab": {
          "base_uri": "https://localhost:8080/"
        },
        "id": "3vYlBhMsqEHm",
        "outputId": "7ee2cee0-6066-41f1-e31e-ce6230c15780"
      },
      "execution_count": null,
      "outputs": [
        {
          "output_type": "stream",
          "name": "stdout",
          "text": [
            "\n",
            "Missing Values in the Dataset:\n",
            "food_item    0\n",
            "calories     0\n",
            "protein      0\n",
            "carbs        0\n",
            "fats         0\n",
            "meal_time    0\n",
            "dtype: int64\n"
          ]
        }
      ]
    },
    {
      "cell_type": "markdown",
      "source": [
        "**Handling Missing Data**\n",
        "\n",
        "Filling the missing values with Column Means\n"
      ],
      "metadata": {
        "id": "hh-6uZjTQnTE"
      }
    },
    {
      "cell_type": "code",
      "source": [
        "# 8. Fill Missing Values with Column Means\n",
        "for column in df.columns:\n",
        "    if df[column].isnull().any():  # Check if the column has any missing values\n",
        "        column_mean = df[column].mean()\n",
        "        df[column].fillna(column_mean, inplace=True)\n",
        "\n"
      ],
      "metadata": {
        "id": "5LeHcY8NVMlT"
      },
      "execution_count": null,
      "outputs": []
    },
    {
      "cell_type": "markdown",
      "source": [
        "Verify that the Missing Values are filled, and there are no more missing"
      ],
      "metadata": {
        "id": "mzodCThzWPdo"
      }
    },
    {
      "cell_type": "code",
      "source": [
        "# 9. Verify that Missing Values are Filled\n",
        "print(\"\\nChecking for missing values after filling:\")\n",
        "print(df.isnull().sum())  # Should show 0 missing values in the filled columns\n"
      ],
      "metadata": {
        "colab": {
          "base_uri": "https://localhost:8080/"
        },
        "id": "mc5iZ1TpWBGT",
        "outputId": "c0e6c4f9-239c-44e0-d638-860a2d9b3842"
      },
      "execution_count": null,
      "outputs": [
        {
          "output_type": "stream",
          "name": "stdout",
          "text": [
            "\n",
            "Checking for missing values after filling:\n",
            "food_item    0\n",
            "calories     0\n",
            "protein      0\n",
            "carbs        0\n",
            "fats         0\n",
            "meal_time    0\n",
            "dtype: int64\n"
          ]
        }
      ]
    },
    {
      "cell_type": "code",
      "source": [
        "# 10. Feature Review Table\n",
        "features = {\n",
        "    \"Feature\": [\"food_item\", \"calories\", \"protein\", \"carbs\", \"fats\", \"meal_time\"],\n",
        "    \"Description\": [\n",
        "        \"Name of the food item\",\n",
        "        \"Calories in the food item\",\n",
        "        \"Protein content (grams)\",\n",
        "        \"Carbohydrate content (grams)\",\n",
        "        \"Fat content (grams)\",\n",
        "        \"Meal timing (e.g., breakfast, lunch, etc.)\"\n",
        "    ],\n",
        "    \"Type\": [\"Categorical\", \"Numerical\", \"Numerical\", \"Numerical\", \"Numerical\", \"Categorical\"]\n",
        "}\n",
        "\n",
        "feature_review_df = pd.DataFrame(features)\n",
        "print(\"\\nFeature Review Table:\")\n",
        "print(feature_review_df)\n",
        "\n",
        "# 11. Analyze Feature Types\n",
        "numerical_columns = df.select_dtypes(include=['int64', 'float64']).columns.tolist()\n",
        "categorical_columns = df.select_dtypes(include=['object']).columns.tolist()\n",
        "\n",
        "print(f\"\\nNumerical Columns: {numerical_columns}\")\n",
        "print(f\"Categorical Columns: {categorical_columns}\")"
      ],
      "metadata": {
        "id": "v0ieViNAt8bB",
        "outputId": "0c842c79-aa56-4e8c-fa7b-faf7bc432a98",
        "colab": {
          "base_uri": "https://localhost:8080/"
        }
      },
      "execution_count": 14,
      "outputs": [
        {
          "output_type": "stream",
          "name": "stdout",
          "text": [
            "\n",
            "Feature Review Table:\n",
            "     Feature                                 Description         Type\n",
            "0  food_item                       Name of the food item  Categorical\n",
            "1   calories                   Calories in the food item    Numerical\n",
            "2    protein                     Protein content (grams)    Numerical\n",
            "3      carbs                Carbohydrate content (grams)    Numerical\n",
            "4       fats                         Fat content (grams)    Numerical\n",
            "5  meal_time  Meal timing (e.g., breakfast, lunch, etc.)  Categorical\n",
            "\n",
            "Numerical Columns: ['calories', 'protein', 'carbs', 'fats', 'meal_time_encoded']\n",
            "Categorical Columns: []\n"
          ]
        }
      ]
    },
    {
      "cell_type": "markdown",
      "source": [
        "Converting the 'food_item' column from categorical into numerical format.\n"
      ],
      "metadata": {
        "id": "VwPGewan2-bZ"
      }
    },
    {
      "cell_type": "code",
      "source": [
        "# Apply One-Hot Encoding to the 'food_item' column\n",
        "df = pd.get_dummies(df, columns=['food_item'], drop_first=True)\n",
        "\n",
        "# Display the updated dataframe with new one-hot encoded columns\n",
        "print(df.head())\n"
      ],
      "metadata": {
        "colab": {
          "base_uri": "https://localhost:8080/"
        },
        "id": "l94lNYz83Qbv",
        "outputId": "fd733a8b-a5b8-4e3b-c8b6-1cd9929ff297"
      },
      "execution_count": 17,
      "outputs": [
        {
          "output_type": "stream",
          "name": "stdout",
          "text": [
            "   calories  protein  carbs  fats  meal_time  food_item_Banana  \\\n",
            "0      95.0      0.5   25.0   0.3  Breakfast             False   \n",
            "1     105.0      1.3   27.0   0.4      Snack              True   \n",
            "2     165.0     31.0    0.0   3.6      Lunch             False   \n",
            "3     679.0     62.0    0.0  48.0     Dinner             False   \n",
            "4     150.0      2.0   15.0   7.0      Lunch             False   \n",
            "\n",
            "   food_item_Chicken Breast  food_item_Fish  food_item_Pasta  food_item_Pizza  \\\n",
            "0                     False           False            False            False   \n",
            "1                     False           False            False            False   \n",
            "2                      True           False            False            False   \n",
            "3                     False           False            False            False   \n",
            "4                     False           False            False            False   \n",
            "\n",
            "   food_item_Rice  food_item_Salad  food_item_Steak  food_item_Yogurt  \n",
            "0           False            False            False             False  \n",
            "1           False            False            False             False  \n",
            "2           False            False            False             False  \n",
            "3           False            False             True             False  \n",
            "4           False             True            False             False  \n"
          ]
        }
      ]
    },
    {
      "cell_type": "markdown",
      "source": [
        "Checking the columns."
      ],
      "metadata": {
        "id": "Gs9nHvAF5Qcy"
      }
    },
    {
      "cell_type": "code",
      "source": [
        "print(df.columns)\n"
      ],
      "metadata": {
        "colab": {
          "base_uri": "https://localhost:8080/"
        },
        "id": "vekq35fF69kN",
        "outputId": "4d3701ef-bd73-4819-9254-f991f480e1e0"
      },
      "execution_count": 18,
      "outputs": [
        {
          "output_type": "stream",
          "name": "stdout",
          "text": [
            "Index(['calories', 'protein', 'carbs', 'fats', 'meal_time', 'food_item_Banana',\n",
            "       'food_item_Chicken Breast', 'food_item_Fish', 'food_item_Pasta',\n",
            "       'food_item_Pizza', 'food_item_Rice', 'food_item_Salad',\n",
            "       'food_item_Steak', 'food_item_Yogurt'],\n",
            "      dtype='object')\n"
          ]
        }
      ]
    },
    {
      "cell_type": "markdown",
      "source": [
        "Converting the 'meal_time' column from categorical into numerical format."
      ],
      "metadata": {
        "id": "_lCcTNa28m0Q"
      }
    },
    {
      "cell_type": "code",
      "source": [
        "# Initialize the label encoder\n",
        "label_encoder = LabelEncoder()\n",
        "\n",
        "# Apply label encoding to the 'meal_time' column\n",
        "df['meal_time_encoded'] = label_encoder.fit_transform(df['meal_time'])\n",
        "\n",
        "# Drop the original 'meal_time' column if not needed\n",
        "df.drop('meal_time', axis=1, inplace=True)\n",
        "\n",
        "# Display the transformed dataframe\n",
        "print(df.head())\n"
      ],
      "metadata": {
        "colab": {
          "base_uri": "https://localhost:8080/"
        },
        "id": "jJE6lFol5a5l",
        "outputId": "ba008249-8cdc-45bc-fa14-535a8bcd7b84"
      },
      "execution_count": 19,
      "outputs": [
        {
          "output_type": "stream",
          "name": "stdout",
          "text": [
            "   calories  protein  carbs  fats  food_item_Banana  food_item_Chicken Breast  \\\n",
            "0      95.0      0.5   25.0   0.3             False                     False   \n",
            "1     105.0      1.3   27.0   0.4              True                     False   \n",
            "2     165.0     31.0    0.0   3.6             False                      True   \n",
            "3     679.0     62.0    0.0  48.0             False                     False   \n",
            "4     150.0      2.0   15.0   7.0             False                     False   \n",
            "\n",
            "   food_item_Fish  food_item_Pasta  food_item_Pizza  food_item_Rice  \\\n",
            "0           False            False            False           False   \n",
            "1           False            False            False           False   \n",
            "2           False            False            False           False   \n",
            "3           False            False            False           False   \n",
            "4           False            False            False           False   \n",
            "\n",
            "   food_item_Salad  food_item_Steak  food_item_Yogurt  meal_time_encoded  \n",
            "0            False            False             False                  0  \n",
            "1            False            False             False                  3  \n",
            "2            False            False             False                  2  \n",
            "3            False             True             False                  1  \n",
            "4             True            False             False                  2  \n"
          ]
        }
      ]
    }
  ]
}