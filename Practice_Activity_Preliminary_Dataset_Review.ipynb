{
  "nbformat": 4,
  "nbformat_minor": 0,
  "metadata": {
    "colab": {
      "provenance": [],
      "mount_file_id": "1442EW52EFZhzfaeJtoNnmjA4rWiFaGBD",
      "authorship_tag": "ABX9TyMVX/l1GllQZVBmx00s5MNP"
    },
    "kernelspec": {
      "name": "python3",
      "display_name": "Python 3"
    },
    "language_info": {
      "name": "python"
    }
  },
  "cells": [
    {
      "cell_type": "markdown",
      "source": [
        "Data mining in health and wellness offers numerous impactful applications. It transforms raw nutrition and food tracking data into actionable insights, helping users make informed decisions that support their overall health and wellness goals.\n",
        "\n",
        "In this practice activity, you will be working with a preliminary review of a nutrition and food tracking dataset. The main objective of this exercise is for you to understand the dataset structure and get familiar with the meaning of each feature of the nutritional data."
      ],
      "metadata": {
        "id": "WRGVTDzVdCbj"
      }
    },
    {
      "cell_type": "markdown",
      "source": [
        "**Instructions:**\n",
        "\n",
        "1. Download the nutrition dataset  and load it to .\n",
        "    \n",
        "    [here](https://drive.google.com/file/d/1sLoEkd84nwHpJK0yOhBhcsNzQyV_fd_X/view?usp=drive_link)\n",
        "    \n",
        "    [Jupyter Notebooks](https://jupyter.org/)\n",
        "    \n",
        "2. Inspect the first few rows and columns using head() to get a sense of the data.\n",
        "3. Review the dataset’s features and identify potential target variables.\n",
        "4. Based on the initial findings, answer the following questions:\n",
        "    1. How many entries does the dataset have?\n",
        "    2. What are the column names, and what kind of data do they contain?\n",
        "    3. Do you notice any missing or unusual values?\n",
        "5. Create a table that lists each feature, describes its meaning, and identifies its type (e.g., numerical, categorical).\n",
        "6. Based on the results, answer the following questions:\n",
        "    1. Which columns are numerical, and which are categorical?\n",
        "    2. Are there any features that look redundant or unnecessary for analysis?"
      ],
      "metadata": {
        "id": "ARjBpRMhjiA5"
      }
    },
    {
      "cell_type": "code",
      "source": [
        "# 1. Import Libraries\n",
        "import pandas as pd\n",
        "\n",
        "# 2. Load the Dataset\n",
        "df = pd.read_csv('/nutrition_data.csv')\n",
        "\n",
        "# Verify the dataset load\n",
        "print(df.head())\n"
      ],
      "metadata": {
        "colab": {
          "base_uri": "https://localhost:8080/"
        },
        "id": "tOzs-9dLfAjL",
        "outputId": "c7a20f99-beb8-463c-f6eb-19824b236e23"
      },
      "execution_count": null,
      "outputs": [
        {
          "output_type": "stream",
          "name": "stdout",
          "text": [
            "        food_item  calories  protein  carbs  fats  meal_time\n",
            "0           Apple      95.0      0.5   25.0   0.3  Breakfast\n",
            "1          Banana     105.0      1.3   27.0   0.4      Snack\n",
            "2  Chicken Breast     165.0     31.0    0.0   3.6      Lunch\n",
            "3           Steak     679.0     62.0    0.0  48.0     Dinner\n",
            "4           Salad     150.0      2.0   15.0   7.0      Lunch\n"
          ]
        }
      ]
    },
    {
      "cell_type": "markdown",
      "source": [
        "Reviewing the dataset's feature.\n"
      ],
      "metadata": {
        "id": "I4rNQHsbkn26"
      }
    },
    {
      "cell_type": "code",
      "source": [
        "# 3. Dataset Structure\n",
        "num_rows = df.shape[0]\n",
        "num_cols = df.shape[1]\n",
        "\n",
        "print(f\"The dataset has {num_rows} rows and {num_cols} columns.\")\n",
        "\n",
        "print(\"\\nDataset Info:\")\n",
        "df.info()"
      ],
      "metadata": {
        "colab": {
          "base_uri": "https://localhost:8080/"
        },
        "id": "Co4ZLNrVkyvd",
        "outputId": "8d10eafc-e7bc-40be-b8b0-64c7abce4c1a"
      },
      "execution_count": null,
      "outputs": [
        {
          "output_type": "stream",
          "name": "stdout",
          "text": [
            "The dataset has 105 rows and 6 columns.\n",
            "\n",
            "Dataset Info:\n",
            "<class 'pandas.core.frame.DataFrame'>\n",
            "RangeIndex: 105 entries, 0 to 104\n",
            "Data columns (total 6 columns):\n",
            " #   Column     Non-Null Count  Dtype  \n",
            "---  ------     --------------  -----  \n",
            " 0   food_item  105 non-null    object \n",
            " 1   calories   103 non-null    float64\n",
            " 2   protein    104 non-null    float64\n",
            " 3   carbs      104 non-null    float64\n",
            " 4   fats       105 non-null    float64\n",
            " 5   meal_time  105 non-null    object \n",
            "dtypes: float64(4), object(2)\n",
            "memory usage: 5.0+ KB\n"
          ]
        }
      ]
    },
    {
      "cell_type": "markdown",
      "source": [
        "The given dataset has 105 rows and 6 columns namely 'food_item', 'calories', 'protein', 'carbs', 'fats', and 'meal_time'"
      ],
      "metadata": {
        "id": "YKqjOpNWm6fM"
      }
    },
    {
      "cell_type": "markdown",
      "source": [
        "Checking any missing and unusual values in the given dataset."
      ],
      "metadata": {
        "id": "D6p9Fuw3qHT2"
      }
    },
    {
      "cell_type": "code",
      "source": [
        "# 4. Missing Values\n",
        "missing_values = df.isnull().sum()\n",
        "print(\"\\nMissing Values in the Dataset:\")\n",
        "print(missing_values)"
      ],
      "metadata": {
        "colab": {
          "base_uri": "https://localhost:8080/"
        },
        "id": "3vYlBhMsqEHm",
        "outputId": "2106be22-17a8-4482-e2f7-8a19d94cfddd"
      },
      "execution_count": null,
      "outputs": [
        {
          "output_type": "stream",
          "name": "stdout",
          "text": [
            "\n",
            "Missing Values in the Dataset:\n",
            "food_item    0\n",
            "calories     2\n",
            "protein      1\n",
            "carbs        1\n",
            "fats         0\n",
            "meal_time    0\n",
            "dtype: int64\n"
          ]
        }
      ]
    },
    {
      "cell_type": "code",
      "source": [
        "# 5. Feature Review Table\n",
        "features = {\n",
        "    \"Feature\": [\"food_item\", \"calories\", \"protein\", \"carbs\", \"fats\", \"meal_time\"],\n",
        "    \"Description\": [\n",
        "        \"Name of the food item\",\n",
        "        \"Calories in the food item\",\n",
        "        \"Protein content (grams)\",\n",
        "        \"Carbohydrate content (grams)\",\n",
        "        \"Fat content (grams)\",\n",
        "        \"Meal timing (e.g., breakfast, lunch, etc.)\"\n",
        "    ],\n",
        "    \"Type\": [\"Categorical\", \"Numerical\", \"Numerical\", \"Numerical\", \"Numerical\", \"Categorical\"]\n",
        "}\n",
        "\n",
        "feature_review_df = pd.DataFrame(features)\n",
        "print(\"\\nFeature Review Table:\")\n",
        "print(feature_review_df)\n",
        "\n",
        "# 6. Analyze Feature Types\n",
        "numerical_columns = df.select_dtypes(include=['int64', 'float64']).columns.tolist()\n",
        "categorical_columns = df.select_dtypes(include=['object']).columns.tolist()\n",
        "\n",
        "print(f\"\\nNumerical Columns: {numerical_columns}\")\n",
        "print(f\"Categorical Columns: {categorical_columns}\")"
      ],
      "metadata": {
        "id": "v0ieViNAt8bB",
        "outputId": "29586023-7485-4b20-9b31-aa6fb2730133",
        "colab": {
          "base_uri": "https://localhost:8080/"
        }
      },
      "execution_count": null,
      "outputs": [
        {
          "output_type": "stream",
          "name": "stdout",
          "text": [
            "\n",
            "Feature Review Table:\n",
            "     Feature                                 Description         Type\n",
            "0  food_item                       Name of the food item  Categorical\n",
            "1   calories                   Calories in the food item    Numerical\n",
            "2    protein                     Protein content (grams)    Numerical\n",
            "3      carbs                Carbohydrate content (grams)    Numerical\n",
            "4       fats                         Fat content (grams)    Numerical\n",
            "5  meal_time  Meal timing (e.g., breakfast, lunch, etc.)  Categorical\n",
            "\n",
            "Numerical Columns: ['calories', 'protein', 'carbs', 'fats']\n",
            "Categorical Columns: ['food_item', 'meal_time']\n"
          ]
        }
      ]
    }
  ]
}