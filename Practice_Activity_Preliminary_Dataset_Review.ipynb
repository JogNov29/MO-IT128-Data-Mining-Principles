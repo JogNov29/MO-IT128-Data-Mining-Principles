{
  "nbformat": 4,
  "nbformat_minor": 0,
  "metadata": {
    "colab": {
      "provenance": [],
      "mount_file_id": "1442EW52EFZhzfaeJtoNnmjA4rWiFaGBD",
      "authorship_tag": "ABX9TyNt6n9gqXqxG4IoNmtuqZIZ"
    },
    "kernelspec": {
      "name": "python3",
      "display_name": "Python 3"
    },
    "language_info": {
      "name": "python"
    }
  },
  "cells": [
    {
      "cell_type": "markdown",
      "source": [
        "Data mining in health and wellness offers numerous impactful applications. It transforms raw nutrition and food tracking data into actionable insights, helping users make informed decisions that support their overall health and wellness goals.\n",
        "\n",
        "In this practice activity, you will be working with a preliminary review of a nutrition and food tracking dataset. The main objective of this exercise is for you to understand the dataset structure and get familiar with the meaning of each feature of the nutritional data."
      ],
      "metadata": {
        "id": "WRGVTDzVdCbj"
      }
    },
    {
      "cell_type": "markdown",
      "source": [
        "**Instructions:**\n",
        "\n",
        "1. Download the nutrition dataset  and load it to .\n",
        "    \n",
        "    [here](https://drive.google.com/file/d/1sLoEkd84nwHpJK0yOhBhcsNzQyV_fd_X/view?usp=drive_link)\n",
        "    \n",
        "    [Jupyter Notebooks](https://jupyter.org/)\n",
        "    \n",
        "2. Inspect the first few rows and columns using head() to get a sense of the data.\n",
        "3. Review the dataset’s features and identify potential target variables.\n",
        "4. Based on the initial findings, answer the following questions:\n",
        "    1. How many entries does the dataset have?\n",
        "    2. What are the column names, and what kind of data do they contain?\n",
        "    3. Do you notice any missing or unusual values?\n",
        "5. Create a table that lists each feature, describes its meaning, and identifies its type (e.g., numerical, categorical).\n",
        "6. Based on the results, answer the following questions:\n",
        "    1. Which columns are numerical, and which are categorical?\n",
        "    2. Are there any features that look redundant or unnecessary for analysis?"
      ],
      "metadata": {
        "id": "ARjBpRMhjiA5"
      }
    },
    {
      "cell_type": "code",
      "source": [
        "# 1. Import Libraries\n",
        "import pandas as pd\n",
        "import os\n",
        "\n",
        "# 2. Load the Dataset\n",
        "# Get the current working directory\n",
        "current_directory = os.getcwd()\n",
        "\n",
        "# 3. Construct the file path relative to the current directory\n",
        "file_path = os.path.join(current_directory, 'nutrition_data.csv')\n",
        "\n",
        "# 4. Load the dataset using the relative path\n",
        "df = pd.read_csv(r\"/content/nutrition_data.csv\")\n",
        "print(os.path.exists(file_path))  # Check if file exists\n",
        "# Verify the dataset load\n",
        "print(df.head())"
      ],
      "metadata": {
        "colab": {
          "base_uri": "https://localhost:8080/"
        },
        "id": "k8vpBlpJSGX8",
        "outputId": "bb2f9b5c-1b1f-4392-b294-e032adabf6d7"
      },
      "execution_count": null,
      "outputs": [
        {
          "output_type": "stream",
          "name": "stdout",
          "text": [
            "True\n",
            "        food_item  calories  protein  carbs  fats  meal_time\n",
            "0           Apple      95.0      0.5   25.0   0.3  Breakfast\n",
            "1          Banana     105.0      1.3   27.0   0.4      Snack\n",
            "2  Chicken Breast     165.0     31.0    0.0   3.6      Lunch\n",
            "3           Steak     679.0     62.0    0.0  48.0     Dinner\n",
            "4           Salad     150.0      2.0   15.0   7.0      Lunch\n"
          ]
        }
      ]
    },
    {
      "cell_type": "markdown",
      "source": [
        "Reviewing the dataset's feature.\n"
      ],
      "metadata": {
        "id": "I4rNQHsbkn26"
      }
    },
    {
      "cell_type": "code",
      "source": [
        "# 5. Dataset Structure\n",
        "num_rows = df.shape[0]\n",
        "num_cols = df.shape[1]\n",
        "\n",
        "print(f\"The dataset has {num_rows} rows and {num_cols} columns.\")\n",
        "\n",
        "print(\"\\nDataset Info:\")\n",
        "df.info()"
      ],
      "metadata": {
        "colab": {
          "base_uri": "https://localhost:8080/"
        },
        "id": "Co4ZLNrVkyvd",
        "outputId": "eb589776-e7a4-427f-b8b4-cf68f2af2fe8"
      },
      "execution_count": null,
      "outputs": [
        {
          "output_type": "stream",
          "name": "stdout",
          "text": [
            "The dataset has 101 rows and 6 columns.\n",
            "\n",
            "Dataset Info:\n",
            "<class 'pandas.core.frame.DataFrame'>\n",
            "Index: 101 entries, 0 to 104\n",
            "Data columns (total 6 columns):\n",
            " #   Column     Non-Null Count  Dtype  \n",
            "---  ------     --------------  -----  \n",
            " 0   food_item  101 non-null    object \n",
            " 1   calories   101 non-null    float64\n",
            " 2   protein    101 non-null    float64\n",
            " 3   carbs      101 non-null    float64\n",
            " 4   fats       101 non-null    float64\n",
            " 5   meal_time  101 non-null    object \n",
            "dtypes: float64(4), object(2)\n",
            "memory usage: 5.5+ KB\n"
          ]
        }
      ]
    },
    {
      "cell_type": "markdown",
      "source": [
        "The given dataset has 105 rows and 6 columns namely 'food_item', 'calories', 'protein', 'carbs', 'fats', and 'meal_time'"
      ],
      "metadata": {
        "id": "YKqjOpNWm6fM"
      }
    },
    {
      "cell_type": "markdown",
      "source": [
        "Checking any missing and unusual values in the given dataset."
      ],
      "metadata": {
        "id": "D6p9Fuw3qHT2"
      }
    },
    {
      "cell_type": "code",
      "source": [
        "# 6. Missing Values\n",
        "missing_values = df.isnull().sum()\n",
        "print(\"\\nMissing Values in the Dataset:\")\n",
        "print(missing_values)"
      ],
      "metadata": {
        "colab": {
          "base_uri": "https://localhost:8080/"
        },
        "id": "3vYlBhMsqEHm",
        "outputId": "7ee2cee0-6066-41f1-e31e-ce6230c15780"
      },
      "execution_count": null,
      "outputs": [
        {
          "output_type": "stream",
          "name": "stdout",
          "text": [
            "\n",
            "Missing Values in the Dataset:\n",
            "food_item    0\n",
            "calories     0\n",
            "protein      0\n",
            "carbs        0\n",
            "fats         0\n",
            "meal_time    0\n",
            "dtype: int64\n"
          ]
        }
      ]
    },
    {
      "cell_type": "markdown",
      "source": [
        "**Handling Missing Data**\n",
        "\n",
        "Filling the missing values with Column Means\n"
      ],
      "metadata": {
        "id": "hh-6uZjTQnTE"
      }
    },
    {
      "cell_type": "code",
      "source": [
        "# 7. Fill Missing Values with Column Means\n",
        "for column in df.columns:\n",
        "    if df[column].isnull().any():  # Check if the column has any missing values\n",
        "        column_mean = df[column].mean()\n",
        "        df[column].fillna(column_mean, inplace=True)\n",
        "\n"
      ],
      "metadata": {
        "id": "5LeHcY8NVMlT"
      },
      "execution_count": null,
      "outputs": []
    },
    {
      "cell_type": "markdown",
      "source": [
        "Verify that the Missing Values are filled, and there are no more missing"
      ],
      "metadata": {
        "id": "mzodCThzWPdo"
      }
    },
    {
      "cell_type": "code",
      "source": [
        "# 8. Verify that Missing Values are Filled\n",
        "print(\"\\nChecking for missing values after filling:\")\n",
        "print(df.isnull().sum())  # Should show 0 missing values in the filled columns\n"
      ],
      "metadata": {
        "colab": {
          "base_uri": "https://localhost:8080/"
        },
        "id": "mc5iZ1TpWBGT",
        "outputId": "c0e6c4f9-239c-44e0-d638-860a2d9b3842"
      },
      "execution_count": null,
      "outputs": [
        {
          "output_type": "stream",
          "name": "stdout",
          "text": [
            "\n",
            "Checking for missing values after filling:\n",
            "food_item    0\n",
            "calories     0\n",
            "protein      0\n",
            "carbs        0\n",
            "fats         0\n",
            "meal_time    0\n",
            "dtype: int64\n"
          ]
        }
      ]
    },
    {
      "cell_type": "code",
      "source": [
        "# 9. Feature Review Table\n",
        "features = {\n",
        "    \"Feature\": [\"food_item\", \"calories\", \"protein\", \"carbs\", \"fats\", \"meal_time\"],\n",
        "    \"Description\": [\n",
        "        \"Name of the food item\",\n",
        "        \"Calories in the food item\",\n",
        "        \"Protein content (grams)\",\n",
        "        \"Carbohydrate content (grams)\",\n",
        "        \"Fat content (grams)\",\n",
        "        \"Meal timing (e.g., breakfast, lunch, etc.)\"\n",
        "    ],\n",
        "    \"Type\": [\"Categorical\", \"Numerical\", \"Numerical\", \"Numerical\", \"Numerical\", \"Categorical\"]\n",
        "}\n",
        "\n",
        "feature_review_df = pd.DataFrame(features)\n",
        "print(\"\\nFeature Review Table:\")\n",
        "print(feature_review_df)\n",
        "\n",
        "# 10. Analyze Feature Types\n",
        "numerical_columns = df.select_dtypes(include=['int64', 'float64']).columns.tolist()\n",
        "categorical_columns = df.select_dtypes(include=['object']).columns.tolist()\n",
        "\n",
        "print(f\"\\nNumerical Columns: {numerical_columns}\")\n",
        "print(f\"Categorical Columns: {categorical_columns}\")"
      ],
      "metadata": {
        "id": "v0ieViNAt8bB",
        "outputId": "29586023-7485-4b20-9b31-aa6fb2730133",
        "colab": {
          "base_uri": "https://localhost:8080/"
        }
      },
      "execution_count": null,
      "outputs": [
        {
          "output_type": "stream",
          "name": "stdout",
          "text": [
            "\n",
            "Feature Review Table:\n",
            "     Feature                                 Description         Type\n",
            "0  food_item                       Name of the food item  Categorical\n",
            "1   calories                   Calories in the food item    Numerical\n",
            "2    protein                     Protein content (grams)    Numerical\n",
            "3      carbs                Carbohydrate content (grams)    Numerical\n",
            "4       fats                         Fat content (grams)    Numerical\n",
            "5  meal_time  Meal timing (e.g., breakfast, lunch, etc.)  Categorical\n",
            "\n",
            "Numerical Columns: ['calories', 'protein', 'carbs', 'fats']\n",
            "Categorical Columns: ['food_item', 'meal_time']\n"
          ]
        }
      ]
    },
    {
      "cell_type": "markdown",
      "source": [
        "Identifying Categorical Features in the dataset."
      ],
      "metadata": {
        "id": "x98zOW-Tqn8d"
      }
    }
  ]
}