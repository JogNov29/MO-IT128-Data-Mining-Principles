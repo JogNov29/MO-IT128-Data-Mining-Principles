{
  "nbformat": 4,
  "nbformat_minor": 0,
  "metadata": {
    "colab": {
      "provenance": [],
      "collapsed_sections": [
        "3Fn4XwFxGajx",
        "775A5V5jHNBS",
        "mC3GO0ZG3Low"
      ],
      "toc_visible": true,
      "mount_file_id": "141my3mv_g0jYZN_vE1umVhxyCn8ES-CM",
      "authorship_tag": "ABX9TyOZoqnwjyABSUoDkHyk5a/O"
    },
    "kernelspec": {
      "name": "python3",
      "display_name": "Python 3"
    },
    "language_info": {
      "name": "python"
    }
  },
  "cells": [
    {
      "cell_type": "markdown",
      "source": [
        "Data preprocessing and feature engineering are vital in data mining as they enhance the quality and performance of data mining models. Data preprocessing ensures that raw data is clean, consistent, and ready for analysis, while feature engineering improves the model’s ability to capture patterns and make accurate predictions.\n",
        "\n",
        "\n",
        "\n",
        "To carry out this activity, follow the instructions below:\n",
        "\n",
        "1. Review the company **business case** . Review the **problem statement** and download the required datasets.\n",
        "    \n",
        "    [here](https://sites.google.com/mmdc.mcl.edu.ph/finmarkcorp/data-mining)\n",
        "    \n",
        "2. Load the datasets to Jupyter Notebook and **perform the necessary data processing using Python.**\n",
        "3. Once done, **engineer new features to help the model arrive at better solutions to the outline problem statement.**\n",
        "4. Save your output and prepare for a discussion with your team."
      ],
      "metadata": {
        "id": "NglOiV3pI3qP"
      }
    },
    {
      "cell_type": "markdown",
      "source": [
        "# Step 1: Importing Libraries and Loading Data"
      ],
      "metadata": {
        "id": "SbcaOwmzCmC4"
      }
    },
    {
      "cell_type": "code",
      "source": [
        "# Importing necessary libraries\n",
        "\n",
        "import pandas as pd\n",
        "import numpy as np\n",
        "import matplotlib.pyplot as plt\n",
        "import seaborn as sns\n",
        "from scipy.stats import zscore\n",
        "from google.colab import drive\n",
        "drive.mount('/content/drive')\n",
        "\n",
        "\n",
        "# loading datasets\n",
        "customer_feedback_df = pd.read_csv(\"/content/drive/MyDrive/Colab Notebooks/finmark_data_mining/Customer_Feedback_Data.csv\")\n",
        "product_offering_df = pd.read_csv(\"/content/drive/MyDrive/Colab Notebooks/finmark_data_mining/Product_Offering_Data.csv\")\n",
        "transaction_df = pd.read_csv(\"/content/drive/MyDrive/Colab Notebooks/finmark_data_mining/Transaction_Data.csv\")"
      ],
      "metadata": {
        "colab": {
          "base_uri": "https://localhost:8080/"
        },
        "id": "inLq4qoBLfqi",
        "outputId": "7787022d-2f7a-4c08-db74-9bd1ed531635"
      },
      "execution_count": 7,
      "outputs": [
        {
          "output_type": "stream",
          "name": "stdout",
          "text": [
            "Drive already mounted at /content/drive; to attempt to forcibly remount, call drive.mount(\"/content/drive\", force_remount=True).\n"
          ]
        }
      ]
    },
    {
      "cell_type": "markdown",
      "source": [
        "Display First Few Rows\n"
      ],
      "metadata": {
        "id": "IGRTg84XDKy6"
      }
    },
    {
      "cell_type": "code",
      "source": [
        "print(customer_feedback_df.head())"
      ],
      "metadata": {
        "colab": {
          "base_uri": "https://localhost:8080/"
        },
        "id": "wZKpVuueTpXx",
        "outputId": "72cb3ac7-26b0-4a06-e3c6-49c1985b1b95"
      },
      "execution_count": null,
      "outputs": [
        {
          "output_type": "stream",
          "name": "stdout",
          "text": [
            "   Customer_ID  Satisfaction_Score  Feedback_Comments  Likelihood_to_Recommend\n",
            "0            1                10.0     Very satisfied                        9\n",
            "1            2                 3.0     Very satisfied                        3\n",
            "2            3                10.0     Very satisfied                        1\n",
            "3            4                 7.0  Needs improvement                        4\n",
            "4            5                 8.0     Unsatisfactory                        7\n"
          ]
        }
      ]
    },
    {
      "cell_type": "code",
      "source": [
        "print(product_offering_df.head())"
      ],
      "metadata": {
        "colab": {
          "base_uri": "https://localhost:8080/"
        },
        "id": "zXHxMKpXT6kJ",
        "outputId": "382e7c99-f5f5-4128-dcf6-c4723d72502b"
      },
      "execution_count": null,
      "outputs": [
        {
          "output_type": "stream",
          "name": "stdout",
          "text": [
            "   Product_ID                   Product_Name     Product_Type Risk_Level  \\\n",
            "0           1           Platinum Credit Card      Credit Card     Medium   \n",
            "1           2           Gold Savings Account  Savings Account        Low   \n",
            "2           3  High-Yield Investment Account       Investment       High   \n",
            "3           4                  Mortgage Loan             Loan     Medium   \n",
            "4           5                      Auto Loan             Loan     Medium   \n",
            "\n",
            "   Target_Age_Group Target_Income_Group  \n",
            "0               NaN              Medium  \n",
            "1               NaN                 Low  \n",
            "2               NaN                High  \n",
            "3               NaN                High  \n",
            "4               NaN              Medium  \n"
          ]
        }
      ]
    },
    {
      "cell_type": "code",
      "source": [
        "print(transaction_df.head())"
      ],
      "metadata": {
        "colab": {
          "base_uri": "https://localhost:8080/"
        },
        "id": "FvZOu2CzUKYY",
        "outputId": "d1116fd2-72e8-431d-e468-0ad43e374ad1"
      },
      "execution_count": null,
      "outputs": [
        {
          "output_type": "stream",
          "name": "stdout",
          "text": [
            "   Transaction_ID  Customer_ID     Transaction_Date  Transaction_Amount  \\\n",
            "0               1          393  2023-01-01 00:00:00              3472.0   \n",
            "1               2          826  2023-01-01 01:00:00                 NaN   \n",
            "2               3          916  2023-01-01 02:00:00                10.0   \n",
            "3               4          109  2023-01-01 03:00:00                72.0   \n",
            "4               5          889  2023-01-01 04:00:00              1793.0   \n",
            "\n",
            "  Transaction_Type  \n",
            "0         Purchase  \n",
            "1     Bill Payment  \n",
            "2         Purchase  \n",
            "3       Investment  \n",
            "4       Investment  \n"
          ]
        }
      ]
    },
    {
      "cell_type": "markdown",
      "source": [
        "**Check data size with df.shape**\n"
      ],
      "metadata": {
        "id": "0W6IN1J2DeGH"
      }
    },
    {
      "cell_type": "code",
      "source": [
        "print(customer_feedback_df.shape)"
      ],
      "metadata": {
        "colab": {
          "base_uri": "https://localhost:8080/"
        },
        "id": "JTKJ-M3GDxkA",
        "outputId": "3eb344bb-a2c6-4183-9b76-940c9c16335d"
      },
      "execution_count": null,
      "outputs": [
        {
          "output_type": "stream",
          "name": "stdout",
          "text": [
            "(5050, 4)\n"
          ]
        }
      ]
    },
    {
      "cell_type": "code",
      "source": [
        "print(product_offering_df.shape)"
      ],
      "metadata": {
        "colab": {
          "base_uri": "https://localhost:8080/"
        },
        "id": "Dk5HrMomEao3",
        "outputId": "db627fc1-6d9c-4bd0-b263-1ee66c1f0298"
      },
      "execution_count": null,
      "outputs": [
        {
          "output_type": "stream",
          "name": "stdout",
          "text": [
            "(15, 6)\n"
          ]
        }
      ]
    },
    {
      "cell_type": "code",
      "source": [
        "print(transaction_df.shape)"
      ],
      "metadata": {
        "colab": {
          "base_uri": "https://localhost:8080/"
        },
        "id": "7K8LSVS4EjS6",
        "outputId": "c5826454-09e5-41e3-ea34-5d476191190b"
      },
      "execution_count": null,
      "outputs": [
        {
          "output_type": "stream",
          "name": "stdout",
          "text": [
            "(5050, 5)\n"
          ]
        }
      ]
    },
    {
      "cell_type": "markdown",
      "source": [
        "**Examine column names with df.columns**"
      ],
      "metadata": {
        "id": "v2OnQO1nFjg8"
      }
    },
    {
      "cell_type": "code",
      "source": [
        "print(customer_feedback_df.columns)"
      ],
      "metadata": {
        "colab": {
          "base_uri": "https://localhost:8080/"
        },
        "id": "XUnM9TxQFJwm",
        "outputId": "2cc269f7-5fa7-4e45-812a-f00250ded934"
      },
      "execution_count": null,
      "outputs": [
        {
          "output_type": "stream",
          "name": "stdout",
          "text": [
            "Index(['Customer_ID', 'Satisfaction_Score', 'Feedback_Comments',\n",
            "       'Likelihood_to_Recommend'],\n",
            "      dtype='object')\n"
          ]
        }
      ]
    },
    {
      "cell_type": "code",
      "source": [
        "print(product_offering_df.columns)"
      ],
      "metadata": {
        "colab": {
          "base_uri": "https://localhost:8080/"
        },
        "id": "_xTIe1nHFTEY",
        "outputId": "956ac0a4-9fd0-4993-ddbd-2e499f0d11ad"
      },
      "execution_count": null,
      "outputs": [
        {
          "output_type": "stream",
          "name": "stdout",
          "text": [
            "Index(['Product_ID', 'Product_Name', 'Product_Type', 'Risk_Level',\n",
            "       'Target_Age_Group', 'Target_Income_Group'],\n",
            "      dtype='object')\n"
          ]
        }
      ]
    },
    {
      "cell_type": "code",
      "source": [
        "print(transaction_df.columns)"
      ],
      "metadata": {
        "colab": {
          "base_uri": "https://localhost:8080/"
        },
        "id": "wyBydoRSFWY1",
        "outputId": "22087e5a-b65c-4e62-ebee-09644379b672"
      },
      "execution_count": null,
      "outputs": [
        {
          "output_type": "stream",
          "name": "stdout",
          "text": [
            "Index(['Transaction_ID', 'Customer_ID', 'Transaction_Date',\n",
            "       'Transaction_Amount', 'Transaction_Type'],\n",
            "      dtype='object')\n"
          ]
        }
      ]
    },
    {
      "cell_type": "markdown",
      "source": [
        "**Display data types with df.dtypes**"
      ],
      "metadata": {
        "id": "sqf2trZGFoon"
      }
    },
    {
      "cell_type": "code",
      "source": [
        "print(customer_feedback_df.dtypes)"
      ],
      "metadata": {
        "colab": {
          "base_uri": "https://localhost:8080/"
        },
        "id": "eUozxfP6Fs-7",
        "outputId": "276a42ca-6276-4d48-c9b4-b47d98b92c3b"
      },
      "execution_count": null,
      "outputs": [
        {
          "output_type": "stream",
          "name": "stdout",
          "text": [
            "Customer_ID                  int64\n",
            "Satisfaction_Score         float64\n",
            "Feedback_Comments           object\n",
            "Likelihood_to_Recommend      int64\n",
            "dtype: object\n"
          ]
        }
      ]
    },
    {
      "cell_type": "code",
      "source": [
        "print(product_offering_df.dtypes)"
      ],
      "metadata": {
        "colab": {
          "base_uri": "https://localhost:8080/"
        },
        "id": "EBkfQRIFGDnM",
        "outputId": "395e3eec-b60b-4899-f8f9-00640db4f959"
      },
      "execution_count": null,
      "outputs": [
        {
          "output_type": "stream",
          "name": "stdout",
          "text": [
            "Product_ID               int64\n",
            "Product_Name            object\n",
            "Product_Type            object\n",
            "Risk_Level              object\n",
            "Target_Age_Group       float64\n",
            "Target_Income_Group     object\n",
            "dtype: object\n"
          ]
        }
      ]
    },
    {
      "cell_type": "code",
      "source": [
        "print(transaction_df.dtypes)"
      ],
      "metadata": {
        "colab": {
          "base_uri": "https://localhost:8080/"
        },
        "id": "CCI7NefuGIhI",
        "outputId": "f7c3145b-5a74-4223-c467-409d709ce035"
      },
      "execution_count": null,
      "outputs": [
        {
          "output_type": "stream",
          "name": "stdout",
          "text": [
            "Transaction_ID          int64\n",
            "Customer_ID             int64\n",
            "Transaction_Date       object\n",
            "Transaction_Amount    float64\n",
            "Transaction_Type       object\n",
            "dtype: object\n"
          ]
        }
      ]
    },
    {
      "cell_type": "markdown",
      "source": [
        "# Step 2: Initial Data Exploration"
      ],
      "metadata": {
        "id": "3Fn4XwFxGajx"
      }
    },
    {
      "cell_type": "markdown",
      "source": [
        "Detailed Overview of Datasets"
      ],
      "metadata": {
        "id": "_BMLNAgHO7Wo"
      }
    },
    {
      "cell_type": "code",
      "source": [
        "# Check Basic Info\n",
        "customer_feedback_df.info()\n",
        "product_offering_df.info()\n",
        "transaction_df.info()\n"
      ],
      "metadata": {
        "colab": {
          "base_uri": "https://localhost:8080/"
        },
        "id": "oHD8PEUiPflH",
        "outputId": "934bc02f-820f-4d0b-ea1e-46fb21a2d9c2"
      },
      "execution_count": null,
      "outputs": [
        {
          "output_type": "stream",
          "name": "stdout",
          "text": [
            "<class 'pandas.core.frame.DataFrame'>\n",
            "RangeIndex: 5050 entries, 0 to 5049\n",
            "Data columns (total 4 columns):\n",
            " #   Column                   Non-Null Count  Dtype  \n",
            "---  ------                   --------------  -----  \n",
            " 0   Customer_ID              5050 non-null   int64  \n",
            " 1   Satisfaction_Score       4949 non-null   float64\n",
            " 2   Feedback_Comments        5050 non-null   object \n",
            " 3   Likelihood_to_Recommend  5050 non-null   int64  \n",
            "dtypes: float64(1), int64(2), object(1)\n",
            "memory usage: 157.9+ KB\n",
            "<class 'pandas.core.frame.DataFrame'>\n",
            "RangeIndex: 15 entries, 0 to 14\n",
            "Data columns (total 6 columns):\n",
            " #   Column               Non-Null Count  Dtype  \n",
            "---  ------               --------------  -----  \n",
            " 0   Product_ID           15 non-null     int64  \n",
            " 1   Product_Name         15 non-null     object \n",
            " 2   Product_Type         15 non-null     object \n",
            " 3   Risk_Level           15 non-null     object \n",
            " 4   Target_Age_Group     0 non-null      float64\n",
            " 5   Target_Income_Group  15 non-null     object \n",
            "dtypes: float64(1), int64(1), object(4)\n",
            "memory usage: 852.0+ bytes\n",
            "<class 'pandas.core.frame.DataFrame'>\n",
            "RangeIndex: 5050 entries, 0 to 5049\n",
            "Data columns (total 5 columns):\n",
            " #   Column              Non-Null Count  Dtype  \n",
            "---  ------              --------------  -----  \n",
            " 0   Transaction_ID      5050 non-null   int64  \n",
            " 1   Customer_ID         5050 non-null   int64  \n",
            " 2   Transaction_Date    5050 non-null   object \n",
            " 3   Transaction_Amount  4950 non-null   float64\n",
            " 4   Transaction_Type    5050 non-null   object \n",
            "dtypes: float64(1), int64(2), object(2)\n",
            "memory usage: 197.4+ KB\n"
          ]
        }
      ]
    },
    {
      "cell_type": "code",
      "source": [
        "# Summary statistics\n",
        "print(customer_feedback_df.describe())\n",
        "print(product_offering_df.describe())\n",
        "print(transaction_df.describe())\n"
      ],
      "metadata": {
        "colab": {
          "base_uri": "https://localhost:8080/"
        },
        "id": "SeqwjYEbGvSv",
        "outputId": "14340915-dc87-4214-a5a8-9aec02f800ba"
      },
      "execution_count": null,
      "outputs": [
        {
          "output_type": "stream",
          "name": "stdout",
          "text": [
            "       Customer_ID  Satisfaction_Score  Likelihood_to_Recommend\n",
            "count  5050.000000         4949.000000              5050.000000\n",
            "mean    501.949703            5.684785                 5.571287\n",
            "std     288.806331            3.606511                 2.872577\n",
            "min       1.000000            1.000000                 1.000000\n",
            "25%     253.000000            3.000000                 3.000000\n",
            "50%     502.000000            6.000000                 6.000000\n",
            "75%     751.750000            8.000000                 8.000000\n",
            "max    1000.000000           60.000000                10.000000\n",
            "       Product_ID  Target_Age_Group\n",
            "count   15.000000               0.0\n",
            "mean     5.133333               NaN\n",
            "std      3.159265               NaN\n",
            "min      1.000000               NaN\n",
            "25%      2.500000               NaN\n",
            "50%      5.000000               NaN\n",
            "75%      7.500000               NaN\n",
            "max     10.000000               NaN\n",
            "       Transaction_ID  Customer_ID  Transaction_Amount\n",
            "count     5050.000000  5050.000000         4950.000000\n",
            "mean      2498.927129   504.692871         3094.726465\n",
            "std       1443.059092   291.593793        14818.501011\n",
            "min          1.000000     1.000000           10.000000\n",
            "25%       1250.250000   251.250000         1239.000000\n",
            "50%       2500.500000   509.000000         2483.000000\n",
            "75%       3745.750000   764.000000         3706.000000\n",
            "max       5000.000000  1000.000000       480300.000000\n"
          ]
        }
      ]
    },
    {
      "cell_type": "code",
      "source": [
        "#  Check for unique values\n",
        "print(customer_feedback_df.nunique())\n",
        "print(product_offering_df.nunique())\n",
        "print(transaction_df.nunique())"
      ],
      "metadata": {
        "colab": {
          "base_uri": "https://localhost:8080/"
        },
        "id": "PbWwxbr9HEW4",
        "outputId": "aba5b55a-2fec-463f-ae33-8bccb19cc369"
      },
      "execution_count": null,
      "outputs": [
        {
          "output_type": "stream",
          "name": "stdout",
          "text": [
            "Customer_ID                1000\n",
            "Satisfaction_Score           17\n",
            "Feedback_Comments             5\n",
            "Likelihood_to_Recommend      10\n",
            "dtype: int64\n",
            "Product_ID             10\n",
            "Product_Name           10\n",
            "Product_Type            4\n",
            "Risk_Level              3\n",
            "Target_Age_Group        0\n",
            "Target_Income_Group     3\n",
            "dtype: int64\n",
            "Transaction_ID        5000\n",
            "Customer_ID            993\n",
            "Transaction_Date      5000\n",
            "Transaction_Amount    3183\n",
            "Transaction_Type         4\n",
            "dtype: int64\n"
          ]
        }
      ]
    },
    {
      "cell_type": "markdown",
      "source": [
        "# Step 3: Handling Duplicates and Outliers"
      ],
      "metadata": {
        "id": "775A5V5jHNBS"
      }
    },
    {
      "cell_type": "markdown",
      "source": [
        "**Handling Duplicates**"
      ],
      "metadata": {
        "id": "KGGLpUq3H27S"
      }
    },
    {
      "cell_type": "code",
      "source": [
        "# Check for duplicates\n",
        "print(\"Duplicates in feedback:\", customer_feedback_df.duplicated().sum())\n",
        "print(\"Duplicates in products:\", product_offering_df.duplicated().sum())\n",
        "print(\"Duplicates in transactions:\", transaction_df.duplicated().sum())\n"
      ],
      "metadata": {
        "colab": {
          "base_uri": "https://localhost:8080/"
        },
        "id": "IhW17d6qH8qS",
        "outputId": "7adefca6-c55b-41af-ed61-14ba8e254d00"
      },
      "execution_count": null,
      "outputs": [
        {
          "output_type": "stream",
          "name": "stdout",
          "text": [
            "Duplicates in feedback: 81\n",
            "Duplicates in products: 5\n",
            "Duplicates in transactions: 50\n"
          ]
        }
      ]
    },
    {
      "cell_type": "markdown",
      "source": [
        "Handling Duplicate Rows in customer_feedback_df\n"
      ],
      "metadata": {
        "id": "J_DhKF2EI5FT"
      }
    },
    {
      "cell_type": "code",
      "source": [
        "print(customer_feedback_df[customer_feedback_df.duplicated()])\n",
        "print(customer_feedback_df.duplicated(subset=['Customer_ID']).sum())\n"
      ],
      "metadata": {
        "colab": {
          "base_uri": "https://localhost:8080/"
        },
        "id": "fdYrXJzEI9iw",
        "outputId": "a41048e9-0109-4807-d054-cca2b47d83e9"
      },
      "execution_count": null,
      "outputs": [
        {
          "output_type": "stream",
          "name": "stdout",
          "text": [
            "      Customer_ID  Satisfaction_Score Feedback_Comments  \\\n",
            "1127          972                 3.0      Good service   \n",
            "1541          380                 2.0    Unsatisfactory   \n",
            "1619          309                 6.0    Unsatisfactory   \n",
            "1796          726                 3.0    Very satisfied   \n",
            "1950          890                 3.0    Unsatisfactory   \n",
            "...           ...                 ...               ...   \n",
            "5045          757                 9.0      Good service   \n",
            "5046          969                 2.0    Unsatisfactory   \n",
            "5047          248                 4.0      Good service   \n",
            "5048           58                 4.0    Unsatisfactory   \n",
            "5049          635                 4.0    Very satisfied   \n",
            "\n",
            "      Likelihood_to_Recommend  \n",
            "1127                        1  \n",
            "1541                        9  \n",
            "1619                        1  \n",
            "1796                        7  \n",
            "1950                        5  \n",
            "...                       ...  \n",
            "5045                        3  \n",
            "5046                        2  \n",
            "5047                        3  \n",
            "5048                       10  \n",
            "5049                        6  \n",
            "\n",
            "[81 rows x 4 columns]\n",
            "4050\n"
          ]
        }
      ]
    },
    {
      "cell_type": "code",
      "source": [
        "customer_feedback_df.drop_duplicates(subset=['Customer_ID'], keep='first', inplace=True)\n",
        "print(\"Remaining duplicate rows:\", customer_feedback_df.duplicated().sum())\n"
      ],
      "metadata": {
        "colab": {
          "base_uri": "https://localhost:8080/"
        },
        "id": "RnXMPEJ5PcNJ",
        "outputId": "c6bc1d15-c4f3-4a86-cbb6-50a37e3a14eb"
      },
      "execution_count": null,
      "outputs": [
        {
          "output_type": "stream",
          "name": "stdout",
          "text": [
            "Remaining duplicate rows: 0\n"
          ]
        }
      ]
    },
    {
      "cell_type": "markdown",
      "source": [
        "Handling Duplicate Rows in product_offering_df"
      ],
      "metadata": {
        "id": "9NVZMhhlOQPP"
      }
    },
    {
      "cell_type": "code",
      "source": [
        "print(product_offering_df[product_offering_df.duplicated()])\n",
        "print(product_offering_df.duplicated(subset=['Product_ID']).sum())"
      ],
      "metadata": {
        "colab": {
          "base_uri": "https://localhost:8080/"
        },
        "id": "eCk4LkmvOCLo",
        "outputId": "d68dbfbb-a48f-4eaa-9fb8-41d4c5578e01"
      },
      "execution_count": null,
      "outputs": [
        {
          "output_type": "stream",
          "name": "stdout",
          "text": [
            "    Product_ID                   Product_Name     Product_Type Risk_Level  \\\n",
            "10           2           Gold Savings Account  Savings Account        Low   \n",
            "11          10             Travel Credit Card      Credit Card     Medium   \n",
            "12           3  High-Yield Investment Account       Investment       High   \n",
            "13           6                  Personal Loan             Loan     Medium   \n",
            "14           1           Platinum Credit Card      Credit Card     Medium   \n",
            "\n",
            "    Target_Age_Group Target_Income_Group  \n",
            "10               NaN                 Low  \n",
            "11               NaN              Medium  \n",
            "12               NaN                High  \n",
            "13               NaN                 Low  \n",
            "14               NaN              Medium  \n",
            "5\n"
          ]
        }
      ]
    },
    {
      "cell_type": "code",
      "source": [
        "product_offering_df.sort_values(by=['Product_ID'], ascending=True, inplace=True)\n",
        "product_offering_df.drop_duplicates(\n",
        "    subset=['Product_ID', 'Product_Name', 'Product_Type', 'Risk_Level', 'Target_Age_Group'],\n",
        "    keep='first',\n",
        "    inplace=True\n",
        ")\n"
      ],
      "metadata": {
        "id": "tddpkdWDRRvz"
      },
      "execution_count": null,
      "outputs": []
    },
    {
      "cell_type": "code",
      "source": [
        "print(\"Remaining duplicate rows:\", product_offering_df.duplicated().sum())"
      ],
      "metadata": {
        "colab": {
          "base_uri": "https://localhost:8080/"
        },
        "id": "DqsRDcenRUFu",
        "outputId": "1bc4218a-b704-48e6-b07c-e4ea862c4374"
      },
      "execution_count": null,
      "outputs": [
        {
          "output_type": "stream",
          "name": "stdout",
          "text": [
            "Remaining duplicate rows: 0\n"
          ]
        }
      ]
    },
    {
      "cell_type": "markdown",
      "source": [
        "Handling Duplicate Rows in transaction_df"
      ],
      "metadata": {
        "id": "JRI6QnwGR2qR"
      }
    },
    {
      "cell_type": "code",
      "source": [
        "print(transaction_df[transaction_df.duplicated()])\n",
        "print(transaction_df.duplicated(subset=['Transaction_ID']).sum())"
      ],
      "metadata": {
        "colab": {
          "base_uri": "https://localhost:8080/"
        },
        "id": "87IOcFR_R_QR",
        "outputId": "1645cdc0-8aef-4f0a-d9f9-9f04d9e229d5",
        "collapsed": true
      },
      "execution_count": null,
      "outputs": [
        {
          "output_type": "stream",
          "name": "stdout",
          "text": [
            "      Transaction_ID  Customer_ID     Transaction_Date  Transaction_Amount  \\\n",
            "5000            4065           89  2023-06-19 08:00:00              1218.0   \n",
            "5001            4971          463  2023-07-27 02:00:00              3123.0   \n",
            "5002            2591          387  2023-04-18 22:00:00              1239.0   \n",
            "5003            2864           43  2023-04-30 07:00:00               857.0   \n",
            "5004             156          474  2023-01-07 11:00:00              1164.0   \n",
            "5005            3023          771  2023-05-06 22:00:00              3614.0   \n",
            "5006            2617          356  2023-04-20 00:00:00              3896.0   \n",
            "5007            2171          189  2023-04-01 10:00:00              3041.0   \n",
            "5008            4558          992  2023-07-09 21:00:00               532.0   \n",
            "5009            3327          750  2023-05-19 14:00:00              1648.0   \n",
            "5010             198          592  2023-01-09 05:00:00               651.0   \n",
            "5011             821           99  2023-02-04 04:00:00              3801.0   \n",
            "5012            3311          717  2023-05-18 22:00:00              4520.0   \n",
            "5013            3273          910  2023-05-17 08:00:00              2261.0   \n",
            "5014            3459          632  2023-05-25 02:00:00               855.0   \n",
            "5015             585          828  2023-01-25 08:00:00              3332.0   \n",
            "5016            1873          702  2023-03-20 00:00:00              3008.0   \n",
            "5017             937          356  2023-02-09 00:00:00               831.0   \n",
            "5018            2005          243  2023-03-25 12:00:00              2876.0   \n",
            "5019              57          142  2023-01-03 08:00:00              3791.0   \n",
            "5020            1454           99  2023-03-02 13:00:00              2968.0   \n",
            "5021             145          456  2023-01-07 00:00:00              4527.0   \n",
            "5022            1525          186  2023-03-05 12:00:00              3738.0   \n",
            "5023             205          560  2023-01-09 12:00:00              3490.0   \n",
            "5024            2726          509  2023-04-24 13:00:00              3371.0   \n",
            "5025            4310          776  2023-06-29 13:00:00              2243.0   \n",
            "5026            3706           14  2023-06-04 09:00:00              3015.0   \n",
            "5027            3329          331  2023-05-19 16:00:00              1135.0   \n",
            "5028            3870           66  2023-06-11 05:00:00              3776.0   \n",
            "5029            1356          507  2023-02-26 11:00:00               995.0   \n",
            "5030            2792          310  2023-04-27 07:00:00              1552.0   \n",
            "5031            4361          607  2023-07-01 16:00:00              3400.0   \n",
            "5032            1431          167  2023-03-01 14:00:00              1100.0   \n",
            "5033            4742          757  2023-07-17 13:00:00               386.0   \n",
            "5034            3472          639  2023-05-25 15:00:00               774.0   \n",
            "5035            1051           33  2023-02-13 18:00:00              1190.0   \n",
            "5036            2329          534  2023-04-08 00:00:00              3478.0   \n",
            "5037            1373          606  2023-02-27 04:00:00              3032.0   \n",
            "5038            1396          506  2023-02-28 03:00:00              1367.0   \n",
            "5039            3562          713  2023-05-29 09:00:00               599.0   \n",
            "5040            3011          242  2023-05-06 10:00:00              4959.0   \n",
            "5041            2766          757  2023-04-26 05:00:00               653.0   \n",
            "5042            2467          120  2023-04-13 18:00:00              2721.0   \n",
            "5043            4436          771  2023-07-04 19:00:00              1904.0   \n",
            "5044             159          489  2023-01-07 14:00:00              3726.0   \n",
            "5045            3034          317  2023-05-07 09:00:00              3018.0   \n",
            "5046             583          336  2023-01-25 06:00:00              2670.0   \n",
            "5047            1211          550  2023-02-20 10:00:00              3252.0   \n",
            "5048            2259          258  2023-04-05 02:00:00              3442.0   \n",
            "5049            1159          271  2023-02-18 06:00:00               108.0   \n",
            "\n",
            "     Transaction_Type  \n",
            "5000         Purchase  \n",
            "5001     Loan Payment  \n",
            "5002       Investment  \n",
            "5003     Loan Payment  \n",
            "5004     Loan Payment  \n",
            "5005       Investment  \n",
            "5006       Investment  \n",
            "5007     Loan Payment  \n",
            "5008     Bill Payment  \n",
            "5009       Investment  \n",
            "5010     Loan Payment  \n",
            "5011         Purchase  \n",
            "5012         Purchase  \n",
            "5013     Bill Payment  \n",
            "5014         Purchase  \n",
            "5015     Loan Payment  \n",
            "5016     Loan Payment  \n",
            "5017       Investment  \n",
            "5018       Investment  \n",
            "5019         Purchase  \n",
            "5020     Bill Payment  \n",
            "5021     Loan Payment  \n",
            "5022         Purchase  \n",
            "5023     Loan Payment  \n",
            "5024       Investment  \n",
            "5025       Investment  \n",
            "5026     Bill Payment  \n",
            "5027         Purchase  \n",
            "5028         Purchase  \n",
            "5029       Investment  \n",
            "5030     Bill Payment  \n",
            "5031     Loan Payment  \n",
            "5032       Investment  \n",
            "5033       Investment  \n",
            "5034     Loan Payment  \n",
            "5035       Investment  \n",
            "5036     Bill Payment  \n",
            "5037     Loan Payment  \n",
            "5038     Bill Payment  \n",
            "5039         Purchase  \n",
            "5040     Loan Payment  \n",
            "5041       Investment  \n",
            "5042     Loan Payment  \n",
            "5043     Bill Payment  \n",
            "5044         Purchase  \n",
            "5045         Purchase  \n",
            "5046     Bill Payment  \n",
            "5047     Bill Payment  \n",
            "5048         Purchase  \n",
            "5049     Loan Payment  \n",
            "50\n"
          ]
        }
      ]
    },
    {
      "cell_type": "code",
      "source": [
        "transaction_df.drop_duplicates(subset=['Transaction_ID'], keep='first', inplace=True)\n"
      ],
      "metadata": {
        "id": "G5w4wWiSurKj"
      },
      "execution_count": 2,
      "outputs": []
    },
    {
      "cell_type": "code",
      "source": [
        "print(\"Remaining duplicate rows:\", transaction_df.duplicated().sum())"
      ],
      "metadata": {
        "colab": {
          "base_uri": "https://localhost:8080/"
        },
        "id": "Qi33hbzMuvXT",
        "outputId": "5db73cc2-65a7-4d8c-95b8-9cb8560964e2"
      },
      "execution_count": 3,
      "outputs": [
        {
          "output_type": "stream",
          "name": "stdout",
          "text": [
            "Remaining duplicate rows: 0\n"
          ]
        }
      ]
    },
    {
      "cell_type": "markdown",
      "source": [
        "**Handling Outliers**\n"
      ],
      "metadata": {
        "id": "y6grgEOtu7i_"
      }
    },
    {
      "cell_type": "code",
      "source": [
        "# Store datasets in a Dictionary\n",
        "datasets = {\n",
        "    'Feedback': customer_feedback_df,\n",
        "    'Product_Offering': product_offering_df,\n",
        "    'Transaction': transaction_df\n",
        "}"
      ],
      "metadata": {
        "id": "b1Sl47i1wjKn"
      },
      "execution_count": 6,
      "outputs": []
    },
    {
      "cell_type": "code",
      "source": [
        "def count_outliers_iqr(df):\n",
        "    outlier_summary = {}\n",
        "    for col in df.select_dtypes(include=np.number).columns:\n",
        "        Q1 = df[col].quantile(0.25)\n",
        "        Q3 = df[col].quantile(0.75)\n",
        "        IQR = Q3 - Q1\n",
        "        lower_bound = Q1 - 1.5 * IQR\n",
        "        upper_bound = Q3 + 1.5 * IQR\n",
        "\n",
        "        # Count outliers\n",
        "        num_outliers = df[(df[col] < lower_bound) | (df[col] > upper_bound)].shape[0]\n",
        "        outlier_summary[col] = num_outliers\n",
        "    return outlier_summary\n",
        "\n",
        "for dataset_name, df in datasets.items():\n",
        "    outlier_counts = count_outliers_iqr(df)\n",
        "    print(f\"\\nOutliers in {dataset_name} dataset:\")\n",
        "    for col, count in outlier_counts.items():\n",
        "        print(f\"  Column '{col}': {count} outliers\")"
      ],
      "metadata": {
        "colab": {
          "base_uri": "https://localhost:8080/"
        },
        "id": "Z_dRghQDyuc7",
        "outputId": "6db2802a-7443-49ec-b867-c23b740ad249"
      },
      "execution_count": 9,
      "outputs": [
        {
          "output_type": "stream",
          "name": "stdout",
          "text": [
            "\n",
            "Outliers in Feedback dataset:\n",
            "  Column 'Customer_ID': 0 outliers\n",
            "  Column 'Satisfaction_Score': 10 outliers\n",
            "  Column 'Likelihood_to_Recommend': 0 outliers\n",
            "\n",
            "Outliers in Product_Offering dataset:\n",
            "  Column 'Product_ID': 0 outliers\n",
            "  Column 'Target_Age_Group': 0 outliers\n",
            "\n",
            "Outliers in Transaction dataset:\n",
            "  Column 'Transaction_ID': 0 outliers\n",
            "  Column 'Customer_ID': 0 outliers\n",
            "  Column 'Transaction_Amount': 10 outliers\n"
          ]
        }
      ]
    },
    {
      "cell_type": "code",
      "source": [
        "# Boxplot for numerical columns\n",
        "for col in customer_feedback_df.select_dtypes(include=np.number).columns:\n",
        "    plt.figure(figsize=(8, 6))\n",
        "    sns.boxplot(x=customer_feedback_df[col])\n",
        "    plt.title(f'Boxplot of {col}')\n",
        "    plt.show()\n"
      ],
      "metadata": {
        "colab": {
          "base_uri": "https://localhost:8080/",
          "height": 1000
        },
        "id": "1SByjFNh2wz8",
        "outputId": "4ac79981-6633-45ac-9dd8-39894dc99334"
      },
      "execution_count": 14,
      "outputs": [
        {
          "output_type": "display_data",
          "data": {
            "text/plain": [
              "<Figure size 800x600 with 1 Axes>"
            ],
            "image/png": "[encoded data removed]"
          },
          "metadata": {}
        },
        {
          "output_type": "display_data",
          "data": {
            "text/plain": [
              "<Figure size 800x600 with 1 Axes>"
            ],
            "image/png": "[encoded data removed]"
          },
          "metadata": {}
        },
        {
          "output_type": "display_data",
          "data": {
            "text/plain": [
              "<Figure size 800x600 with 1 Axes>"
            ],
            "image/png": "[encoded data removed]"
          },
          "metadata": {}
        }
      ]
    },
    {
      "cell_type": "code",
      "source": [
        "# Remove only outliers greater than 10\n",
        "customer_feedback_df_cleaned = customer_feedback_df[customer_feedback_df['Satisfaction_Score'] <= 10]\n"
      ],
      "metadata": {
        "id": "SUA3lAOf15YX"
      },
      "execution_count": 10,
      "outputs": []
    },
    {
      "cell_type": "code",
      "source": [
        "print(\"Remaining scores above 10:\", (customer_feedback_df_cleaned['Satisfaction_Score'] > 10).sum())\n"
      ],
      "metadata": {
        "colab": {
          "base_uri": "https://localhost:8080/"
        },
        "id": "aDA08zhC2QrY",
        "outputId": "1d5f380c-2d0a-4f5b-d209-4d3b8ea2072e"
      },
      "execution_count": 11,
      "outputs": [
        {
          "output_type": "stream",
          "name": "stdout",
          "text": [
            "Remaining scores above 10: 0\n"
          ]
        }
      ]
    },
    {
      "cell_type": "code",
      "source": [
        "# Save the cleaned data\n",
        "customer_feedback_df_cleaned.to_csv('cleaned_customer_feedback.csv', index=False)\n",
        "customer_feedback_df = customer_feedback_df_cleaned\n",
        "\n"
      ],
      "metadata": {
        "id": "zpL20aJI2bL2"
      },
      "execution_count": 16,
      "outputs": []
    },
    {
      "cell_type": "markdown",
      "source": [
        "#Step 4: Handling Missing Values"
      ],
      "metadata": {
        "id": "mC3GO0ZG3Low"
      }
    },
    {
      "cell_type": "code",
      "source": [
        "# Count missing values\n",
        "print(customer_feedback_df.isnull().sum())\n",
        "print(product_offering_df.isnull().sum())\n",
        "print(transaction_df.isnull().sum())"
      ],
      "metadata": {
        "colab": {
          "base_uri": "https://localhost:8080/"
        },
        "id": "1qJDeTHT8WS7",
        "outputId": "3fe98320-3134-4398-e459-341c6c040ca1"
      },
      "execution_count": 17,
      "outputs": [
        {
          "output_type": "stream",
          "name": "stdout",
          "text": [
            "Customer_ID                0\n",
            "Satisfaction_Score         0\n",
            "Feedback_Comments          0\n",
            "Likelihood_to_Recommend    0\n",
            "dtype: int64\n",
            "Product_ID              0\n",
            "Product_Name            0\n",
            "Product_Type            0\n",
            "Risk_Level              0\n",
            "Target_Age_Group       15\n",
            "Target_Income_Group     0\n",
            "dtype: int64\n",
            "Transaction_ID          0\n",
            "Customer_ID             0\n",
            "Transaction_Date        0\n",
            "Transaction_Amount    100\n",
            "Transaction_Type        0\n",
            "dtype: int64\n"
          ]
        }
      ]
    },
    {
      "cell_type": "markdown",
      "source": [
        "Handling Missing Values from product_offering dataset."
      ],
      "metadata": {
        "id": "SdUFh62m9W4x"
      }
    },
    {
      "cell_type": "code",
      "source": [
        "# Drop the 'Target_Age_Group' column from the product_offering_df\n",
        "product_offering_df.drop(columns=['Target_Age_Group'], inplace=True)\n",
        "\n",
        "# Verify if the column is removed\n",
        "print(product_offering_df.columns)\n"
      ],
      "metadata": {
        "colab": {
          "base_uri": "https://localhost:8080/"
        },
        "id": "t86WrHA09U7i",
        "outputId": "653b3cc0-eecc-42b4-cdaf-b6c85205c00c"
      },
      "execution_count": 18,
      "outputs": [
        {
          "output_type": "stream",
          "name": "stdout",
          "text": [
            "Index(['Product_ID', 'Product_Name', 'Product_Type', 'Risk_Level',\n",
            "       'Target_Income_Group'],\n",
            "      dtype='object')\n"
          ]
        }
      ]
    },
    {
      "cell_type": "code",
      "source": [
        "# Plot histogram\n",
        "plt.figure(figsize=(8, 6))\n",
        "plt.hist(transaction_df['Transaction_Amount'].dropna(), bins=30, edgecolor='black')\n",
        "plt.title('Transaction Amount Distribution')\n",
        "plt.xlabel('Transaction Amount')\n",
        "plt.ylabel('Frequency')\n",
        "plt.show()\n"
      ],
      "metadata": {
        "id": "s5NhzOf2AClg"
      },
      "execution_count": null,
      "outputs": []
    },
    {
      "cell_type": "markdown",
      "source": [
        "Handling Missing Values from product_offering dataset."
      ],
      "metadata": {
        "id": "yqqHouUOAPJV"
      }
    },
    {
      "cell_type": "code",
      "source": [
        "import matplotlib.pyplot as plt\n",
        "#Visual Inspection\n",
        "# Plot histogram\n",
        "plt.figure(figsize=(8, 6))\n",
        "plt.hist(transaction_df['Transaction_Amount'].dropna(), bins=30, edgecolor='black')\n",
        "plt.title('Transaction Amount Distribution')\n",
        "plt.xlabel('Transaction Amount')\n",
        "plt.ylabel('Frequency')\n",
        "plt.show()\n"
      ],
      "metadata": {
        "colab": {
          "base_uri": "https://localhost:8080/",
          "height": 564
        },
        "id": "SDulFdJeARvV",
        "outputId": "60c04167-15f5-4392-90ad-23090ac957ac"
      },
      "execution_count": 19,
      "outputs": [
        {
          "output_type": "display_data",
          "data": {
            "text/plain": [
              "<Figure size 800x600 with 1 Axes>"
            ],
            "image/png": "[encoded data removed]"
          },
          "metadata": {}
        }
      ]
    },
    {
      "cell_type": "code",
      "source": [
        "import seaborn as sns\n",
        "\n",
        "# Boxplot to visualize outliers\n",
        "plt.figure(figsize=(8, 6))\n",
        "sns.boxplot(x=transaction_df['Transaction_Amount'])\n",
        "plt.title('Boxplot of Transaction Amount')\n",
        "plt.show()"
      ],
      "metadata": {
        "colab": {
          "base_uri": "https://localhost:8080/",
          "height": 564
        },
        "id": "y6jfbdMDAUbB",
        "outputId": "31e0fcca-b5a0-4f69-c26d-696b89745061"
      },
      "execution_count": 20,
      "outputs": [
        {
          "output_type": "display_data",
          "data": {
            "text/plain": [
              "<Figure size 800x600 with 1 Axes>"
            ],
            "image/png": "[encoded data removed]"
          },
          "metadata": {}
        }
      ]
    },
    {
      "cell_type": "code",
      "source": [
        "# Count missing values in 'Transaction_Amount' by transaction type\n",
        "print(transaction_df.groupby('Transaction_Type')['Transaction_Amount'].apply(lambda x: x.isnull().sum()))\n"
      ],
      "metadata": {
        "colab": {
          "base_uri": "https://localhost:8080/"
        },
        "id": "4Gw3x2hYA9XT",
        "outputId": "a96d4419-45d0-436b-88fe-7b5d36b21906"
      },
      "execution_count": 21,
      "outputs": [
        {
          "output_type": "stream",
          "name": "stdout",
          "text": [
            "Transaction_Type\n",
            "Bill Payment    32\n",
            "Investment      20\n",
            "Loan Payment    25\n",
            "Purchase        23\n",
            "Name: Transaction_Amount, dtype: int64\n"
          ]
        }
      ]
    },
    {
      "cell_type": "markdown",
      "source": [
        "The data has outliers, so the median is a better choice to fill the missing values as it's less sensitive to extreme values."
      ],
      "metadata": {
        "id": "8KqCpOrLBJ9m"
      }
    },
    {
      "cell_type": "code",
      "source": [
        "# Fill missing values with the median transaction amount for each type\n",
        "transaction_df['Transaction_Amount'] = transaction_df.groupby('Transaction_Type')['Transaction_Amount'].transform(lambda x: x.fillna(x.median()))"
      ],
      "metadata": {
        "id": "rAerHI9QCSmt"
      },
      "execution_count": 23,
      "outputs": []
    },
    {
      "cell_type": "code",
      "source": [
        "print(transaction_df['Transaction_Amount'].isnull().sum())  # Should print 0 if successful"
      ],
      "metadata": {
        "colab": {
          "base_uri": "https://localhost:8080/"
        },
        "id": "TJukWrCDCYKX",
        "outputId": "e976b25b-3841-4c55-9822-4de55b2f776e"
      },
      "execution_count": 24,
      "outputs": [
        {
          "output_type": "stream",
          "name": "stdout",
          "text": [
            "0\n"
          ]
        }
      ]
    },
    {
      "cell_type": "markdown",
      "source": [
        "#Step 5: Data Type Conversion"
      ],
      "metadata": {
        "id": "qF4tUKx8C_FR"
      }
    }
  ]
}