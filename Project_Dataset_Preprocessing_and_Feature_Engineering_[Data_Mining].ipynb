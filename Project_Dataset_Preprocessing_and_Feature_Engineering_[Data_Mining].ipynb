{
  "nbformat": 4,
  "nbformat_minor": 0,
  "metadata": {
    "colab": {
      "provenance": [],
      "mount_file_id": "141my3mv_g0jYZN_vE1umVhxyCn8ES-CM",
      "authorship_tag": "ABX9TyOaGL8c0+p3JKPYfCRk4Dnb"
    },
    "kernelspec": {
      "name": "python3",
      "display_name": "Python 3"
    },
    "language_info": {
      "name": "python"
    }
  },
  "cells": [
    {
      "cell_type": "markdown",
      "source": [
        "Data preprocessing and feature engineering are vital in data mining as they enhance the quality and performance of data mining models. Data preprocessing ensures that raw data is clean, consistent, and ready for analysis, while feature engineering improves the model’s ability to capture patterns and make accurate predictions.\n",
        "\n",
        "\n",
        "\n",
        "To carry out this activity, follow the instructions below:\n",
        "\n",
        "1. Review the company **business case** . Review the **problem statement** and download the required datasets.\n",
        "    \n",
        "    [here](https://sites.google.com/mmdc.mcl.edu.ph/finmarkcorp/data-mining)\n",
        "    \n",
        "2. Load the datasets to Jupyter Notebook and **perform the necessary data processing using Python.**\n",
        "3. Once done, **engineer new features to help the model arrive at better solutions to the outline problem statement.**\n",
        "4. Save your output and prepare for a discussion with your team."
      ],
      "metadata": {
        "id": "NglOiV3pI3qP"
      }
    },
    {
      "cell_type": "code",
      "source": [
        "# Importing necessary libraries\n",
        "\n",
        "import pandas as pd\n",
        "from google.colab import drive\n",
        "drive.mount('/content/drive')\n",
        "\n",
        "\n",
        "# loading datasets\n",
        "customer_feedback_df = pd.read_csv(\"/content/drive/MyDrive/Colab Notebooks/finmark_data_mining/Customer_Feedback_Data.csv\")\n",
        "product_offering_df = pd.read_csv(\"/content/drive/MyDrive/Colab Notebooks/finmark_data_mining/Product_Offering_Data.csv\")\n",
        "transaction_df = pd.read_csv(\"/content/drive/MyDrive/Colab Notebooks/finmark_data_mining/Transaction_Data.csv\")"
      ],
      "metadata": {
        "colab": {
          "base_uri": "https://localhost:8080/"
        },
        "id": "inLq4qoBLfqi",
        "outputId": "6d93d538-e3a2-4e74-dfa7-b17129d8dbf0"
      },
      "execution_count": 9,
      "outputs": [
        {
          "output_type": "stream",
          "name": "stdout",
          "text": [
            "Drive already mounted at /content/drive; to attempt to forcibly remount, call drive.mount(\"/content/drive\", force_remount=True).\n"
          ]
        }
      ]
    },
    {
      "cell_type": "markdown",
      "source": [
        "Preview each dataset"
      ],
      "metadata": {
        "id": "onlNq53qTuiY"
      }
    },
    {
      "cell_type": "code",
      "source": [
        "print(customer_feedback_df.head())"
      ],
      "metadata": {
        "colab": {
          "base_uri": "https://localhost:8080/"
        },
        "id": "wZKpVuueTpXx",
        "outputId": "2fbd331e-b5e2-4fce-aabd-534b0dcd6ee0"
      },
      "execution_count": 14,
      "outputs": [
        {
          "output_type": "stream",
          "name": "stdout",
          "text": [
            "   Customer_ID  Satisfaction_Score  Feedback_Comments  Likelihood_to_Recommend\n",
            "0            1                10.0     Very satisfied                        9\n",
            "1            2                 3.0     Very satisfied                        3\n",
            "2            3                10.0     Very satisfied                        1\n",
            "3            4                 7.0  Needs improvement                        4\n",
            "4            5                 8.0     Unsatisfactory                        7\n"
          ]
        }
      ]
    },
    {
      "cell_type": "code",
      "source": [
        "print(product_offering_df.head())"
      ],
      "metadata": {
        "colab": {
          "base_uri": "https://localhost:8080/"
        },
        "id": "zXHxMKpXT6kJ",
        "outputId": "bd73a7fb-75dc-4a83-ad89-d1c548fbbb39"
      },
      "execution_count": 15,
      "outputs": [
        {
          "output_type": "stream",
          "name": "stdout",
          "text": [
            "   Product_ID                   Product_Name     Product_Type Risk_Level  \\\n",
            "0           1           Platinum Credit Card      Credit Card     Medium   \n",
            "1           2           Gold Savings Account  Savings Account        Low   \n",
            "2           3  High-Yield Investment Account       Investment       High   \n",
            "3           4                  Mortgage Loan             Loan     Medium   \n",
            "4           5                      Auto Loan             Loan     Medium   \n",
            "\n",
            "   Target_Age_Group Target_Income_Group  \n",
            "0               NaN              Medium  \n",
            "1               NaN                 Low  \n",
            "2               NaN                High  \n",
            "3               NaN                High  \n",
            "4               NaN              Medium  \n"
          ]
        }
      ]
    },
    {
      "cell_type": "code",
      "source": [
        "print(transaction_df.head())"
      ],
      "metadata": {
        "colab": {
          "base_uri": "https://localhost:8080/"
        },
        "id": "FvZOu2CzUKYY",
        "outputId": "6bb1b770-343b-4874-a4c6-dcf68a56a09f"
      },
      "execution_count": 16,
      "outputs": [
        {
          "output_type": "stream",
          "name": "stdout",
          "text": [
            "   Transaction_ID  Customer_ID     Transaction_Date  Transaction_Amount  \\\n",
            "0               1          393  2023-01-01 00:00:00              3472.0   \n",
            "1               2          826  2023-01-01 01:00:00                 NaN   \n",
            "2               3          916  2023-01-01 02:00:00                10.0   \n",
            "3               4          109  2023-01-01 03:00:00                72.0   \n",
            "4               5          889  2023-01-01 04:00:00              1793.0   \n",
            "\n",
            "  Transaction_Type  \n",
            "0         Purchase  \n",
            "1     Bill Payment  \n",
            "2         Purchase  \n",
            "3       Investment  \n",
            "4       Investment  \n"
          ]
        }
      ]
    },
    {
      "cell_type": "markdown",
      "source": [
        "Detailed Overview of Datasets"
      ],
      "metadata": {
        "id": "_BMLNAgHO7Wo"
      }
    },
    {
      "cell_type": "code",
      "source": [
        "# Get dataset information\n",
        "customer_feedback_df.info()\n",
        "product_offering_df.info()\n",
        "transaction_df.info()\n"
      ],
      "metadata": {
        "colab": {
          "base_uri": "https://localhost:8080/"
        },
        "id": "oHD8PEUiPflH",
        "outputId": "ef7e6e5d-ce9b-452d-f89b-4133c3845e5a"
      },
      "execution_count": 6,
      "outputs": [
        {
          "output_type": "stream",
          "name": "stdout",
          "text": [
            "<class 'pandas.core.frame.DataFrame'>\n",
            "RangeIndex: 5050 entries, 0 to 5049\n",
            "Data columns (total 4 columns):\n",
            " #   Column                   Non-Null Count  Dtype  \n",
            "---  ------                   --------------  -----  \n",
            " 0   Customer_ID              5050 non-null   int64  \n",
            " 1   Satisfaction_Score       4949 non-null   float64\n",
            " 2   Feedback_Comments        5050 non-null   object \n",
            " 3   Likelihood_to_Recommend  5050 non-null   int64  \n",
            "dtypes: float64(1), int64(2), object(1)\n",
            "memory usage: 157.9+ KB\n",
            "<class 'pandas.core.frame.DataFrame'>\n",
            "RangeIndex: 15 entries, 0 to 14\n",
            "Data columns (total 6 columns):\n",
            " #   Column               Non-Null Count  Dtype  \n",
            "---  ------               --------------  -----  \n",
            " 0   Product_ID           15 non-null     int64  \n",
            " 1   Product_Name         15 non-null     object \n",
            " 2   Product_Type         15 non-null     object \n",
            " 3   Risk_Level           15 non-null     object \n",
            " 4   Target_Age_Group     0 non-null      float64\n",
            " 5   Target_Income_Group  15 non-null     object \n",
            "dtypes: float64(1), int64(1), object(4)\n",
            "memory usage: 848.0+ bytes\n",
            "<class 'pandas.core.frame.DataFrame'>\n",
            "RangeIndex: 5050 entries, 0 to 5049\n",
            "Data columns (total 5 columns):\n",
            " #   Column              Non-Null Count  Dtype  \n",
            "---  ------              --------------  -----  \n",
            " 0   Transaction_ID      5050 non-null   int64  \n",
            " 1   Customer_ID         5050 non-null   int64  \n",
            " 2   Transaction_Date    5050 non-null   object \n",
            " 3   Transaction_Amount  4950 non-null   float64\n",
            " 4   Transaction_Type    5050 non-null   object \n",
            "dtypes: float64(1), int64(2), object(2)\n",
            "memory usage: 197.4+ KB\n"
          ]
        }
      ]
    },
    {
      "cell_type": "markdown",
      "source": [
        "Missing Values\n",
        "\n"
      ],
      "metadata": {
        "id": "TGyFY7uPN2dv"
      }
    },
    {
      "cell_type": "code",
      "source": [
        "#Identify Missing Values in each dataset\n",
        "print(customer_feedback_df.isnull().sum())\n",
        "print(product_offering_df.isnull().sum())\n",
        "print(transaction_df.isnull().sum())\n",
        "\n"
      ],
      "metadata": {
        "colab": {
          "base_uri": "https://localhost:8080/"
        },
        "id": "kvz3s-KZN4ZA",
        "outputId": "262db13b-a5ea-4f5e-c6e6-f72b58f787ab"
      },
      "execution_count": 8,
      "outputs": [
        {
          "output_type": "stream",
          "name": "stdout",
          "text": [
            "Customer_ID                  0\n",
            "Satisfaction_Score         101\n",
            "Feedback_Comments            0\n",
            "Likelihood_to_Recommend      0\n",
            "dtype: int64\n",
            "Product_ID              0\n",
            "Product_Name            0\n",
            "Product_Type            0\n",
            "Risk_Level              0\n",
            "Target_Age_Group       15\n",
            "Target_Income_Group     0\n",
            "dtype: int64\n",
            "Transaction_ID          0\n",
            "Customer_ID             0\n",
            "Transaction_Date        0\n",
            "Transaction_Amount    100\n",
            "Transaction_Type        0\n",
            "dtype: int64\n"
          ]
        }
      ]
    },
    {
      "cell_type": "markdown",
      "source": [
        "Duplicate Data\n"
      ],
      "metadata": {
        "id": "8Qqw_pV2Vb_y"
      }
    },
    {
      "cell_type": "code",
      "source": [
        "# Checking for Duplicate Data\n",
        "print(customer_feedback_df.duplicated().sum())\n",
        "print(product_offering_df.duplicated().sum())\n",
        "print(transaction_df.duplicated().sum())"
      ],
      "metadata": {
        "colab": {
          "base_uri": "https://localhost:8080/"
        },
        "id": "tXgLiYWUVf4A",
        "outputId": "e04be015-678b-4835-93bf-2ee82c1f1e88"
      },
      "execution_count": 18,
      "outputs": [
        {
          "output_type": "stream",
          "name": "stdout",
          "text": [
            "81\n",
            "5\n",
            "50\n"
          ]
        }
      ]
    }
  ]
}